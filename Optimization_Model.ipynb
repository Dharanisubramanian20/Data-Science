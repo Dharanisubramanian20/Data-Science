{
 "cells": [
  {
   "cell_type": "markdown",
   "id": "2b1eb0b9",
   "metadata": {},
   "source": [
    "# Feature Selection for Machine Learning Model"
   ]
  },
  {
   "cell_type": "markdown",
   "id": "1e59e455",
   "metadata": {},
   "source": [
    "## Problem Statement:\n",
    "### In a machine learning project, selecting the right subset of features is crucial for improving model accuracy and reducing computation time. We want to maximize model accuracy while minimizing the number of selected features using Linear Programming (LP).\n",
    "\n",
    "## Business Scenario:\n",
    "### A company is developing a predictive model to classify customer churn. There are 10 available features, but using all of them may lead to overfitting and unnecessary computational costs. We want to select the best features while ensuring the model accuracy remains high.\n",
    "\n",
    "## Optimization Goal:\n",
    "### Maximize accuracy while selecting a limited number of features (at most 5 features).\n",
    "### Each feature contributes a different weight to accuracy.\n",
    "### The total cost of selected features should not exceed a predefined budget."
   ]
  },
  {
   "cell_type": "code",
   "execution_count": 2,
   "id": "909a34e0",
   "metadata": {},
   "outputs": [
    {
     "name": "stdout",
     "output_type": "stream",
     "text": [
      "Selected Features: [3, 8, 9, 10]\n",
      "Maximum Achievable Accuracy: 0.65\n"
     ]
    }
   ],
   "source": [
    "from pulp import LpMaximize, LpProblem, LpVariable, lpSum\n",
    "\n",
    "# Define feature contributions to accuracy (weights)\n",
    "accuracy_weights = [0.12, 0.18, 0.15, 0.10, 0.22, 0.30, 0.25, 0.16, 0.14, 0.20]\n",
    "\n",
    "# Define feature costs (example)\n",
    "feature_costs = [5, 7, 6, 4, 9, 12, 10, 6, 5, 8]\n",
    "\n",
    "# Define the budget constraint\n",
    "budget = 25\n",
    "\n",
    "# Define the LP problem\n",
    "problem = LpProblem(\"Feature_Selection_Optimization\", LpMaximize)\n",
    "\n",
    "# Define binary decision variables for selecting features\n",
    "x = [LpVariable(f\"x{i}\", cat=\"Binary\") for i in range(10)]\n",
    "\n",
    "# Define the objective function (maximize accuracy)\n",
    "problem += lpSum(accuracy_weights[i] * x[i] for i in range(10)), \"Total_Accuracy\"\n",
    "\n",
    "# Constraint: At most 5 features can be selected\n",
    "problem += lpSum(x) <= 5, \"Feature_Limit\"\n",
    "\n",
    "# Constraint: Budget should not be exceeded\n",
    "problem += lpSum(feature_costs[i] * x[i] for i in range(10)) <= budget, \"Budget_Constraint\"\n",
    "\n",
    "# Solve the problem\n",
    "problem.solve()\n",
    "\n",
    "# Print selected features\n",
    "selected_features = [i+1 for i in range(10) if x[i].value() == 1]\n",
    "print(f\"Selected Features: {selected_features}\")\n",
    "print(f\"Maximum Achievable Accuracy: {problem.objective.value()}\")\n"
   ]
  },
  {
   "cell_type": "markdown",
   "id": "5f75b7cc",
   "metadata": {},
   "source": [
    "## Expected Outcome & Insights:\n",
    "### The solver will select the best 5 features that maximize model accuracy while keeping the total cost within the budget.\n",
    "### This optimization helps data scientists automate feature selection, improving model performance and reducing unnecessary computational complexity.\n",
    "### The selected features can be used to train a machine learning model, reducing overfitting and enhancing interpretability."
   ]
  },
  {
   "cell_type": "code",
   "execution_count": null,
   "id": "0522e30a",
   "metadata": {},
   "outputs": [],
   "source": []
  }
 ],
 "metadata": {
  "kernelspec": {
   "display_name": "Python (myenv)",
   "language": "python",
   "name": "venv"
  },
  "language_info": {
   "codemirror_mode": {
    "name": "ipython",
    "version": 3
   },
   "file_extension": ".py",
   "mimetype": "text/x-python",
   "name": "python",
   "nbconvert_exporter": "python",
   "pygments_lexer": "ipython3",
   "version": "3.12.2"
  }
 },
 "nbformat": 4,
 "nbformat_minor": 5
}
